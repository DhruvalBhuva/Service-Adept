{
 "cells": [
  {
   "cell_type": "code",
   "execution_count": 2,
   "id": "2ea2d9ad",
   "metadata": {},
   "outputs": [],
   "source": [
    "import numpy as np \n",
    "import pandas as pd"
   ]
  },
  {
   "cell_type": "code",
   "execution_count": 4,
   "id": "2c6d2345",
   "metadata": {},
   "outputs": [],
   "source": [
    "df = pd.read_csv('Pincode_30052019.csv')"
   ]
  },
  {
   "cell_type": "code",
   "execution_count": 6,
   "id": "9edfa501",
   "metadata": {},
   "outputs": [],
   "source": [
    "df_test = df[['']].copy()"
   ]
  },
  {
   "cell_type": "code",
   "execution_count": null,
   "id": "9d2e407d",
   "metadata": {},
   "outputs": [],
   "source": [
    "df_test['']"
   ]
  }
 ],
 "metadata": {
  "kernelspec": {
   "display_name": "Python 3",
   "language": "python",
   "name": "python3"
  },
  "language_info": {
   "codemirror_mode": {
    "name": "ipython",
    "version": 3
   },
   "file_extension": ".py",
   "mimetype": "text/x-python",
   "name": "python",
   "nbconvert_exporter": "python",
   "pygments_lexer": "ipython3",
   "version": "3.9.2"
  }
 },
 "nbformat": 4,
 "nbformat_minor": 5
}
